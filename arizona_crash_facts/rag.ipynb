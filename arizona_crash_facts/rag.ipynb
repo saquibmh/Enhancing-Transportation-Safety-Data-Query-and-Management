{
 "cells": [
  {
   "cell_type": "code",
   "execution_count": null,
   "metadata": {},
   "outputs": [
    {
     "name": "stderr",
     "output_type": "stream",
     "text": [
      "huggingface/tokenizers: The current process just got forked, after parallelism has already been used. Disabling parallelism to avoid deadlocks...\n",
      "To disable this warning, you can either:\n",
      "\t- Avoid using `tokenizers` before the fork if possible\n",
      "\t- Explicitly set the environment variable TOKENIZERS_PARALLELISM=(true | false)\n"
     ]
    }
   ],
   "source": [
    "%%capture\n",
    "%pip install langchain-huggingface langchain_community annoy pypdf"
   ]
  },
  {
   "cell_type": "code",
   "execution_count": 1,
   "metadata": {},
   "outputs": [],
   "source": [
    "query1 = \"What percentage of total crashes in Arizona were fatal in 2023?\"\n",
    "query2 = \"How many crashes in Arizona in 2023 were alcohol-related, and what portion of them were fatal?\"\n",
    "query3 = \"What was the peak hour for all crashes in Arizona in 2023, and how does it differ from the peak hour for fatal crashes?\"\n",
    "query4 = \"How many fatalities in crashes where there in Arizona in 1989?\"\n",
    "query5 = \"From 2011 to 2023 which year had the least fatality in Arizona?\"\n",
    "query6 = \"How much percentage change was there in Rural Fatalities between 2022 and 2023?\"\n",
    "query7 = \"What is the economic cost of motor vehicle crashes for Arizona in 2023?\"\n",
    "query8 = \"How much percentage change was there in Rural Fatalities between 2022 and 2023?\"\n",
    "query9 = \"How many licensed drivers were there in 2017?\"\n",
    "query10 = \"How many total registered vehicles were there in 2018?\"\n",
    "query11 = \"How much is the estimated motor vehicle miles traveled in 2023?\"\n",
    "query12 = \"How much is the Arizona fatality rate in 2023?\"\n",
    "query13 = \"Which county had the highest economic loss?\"\n",
    "query14 = \"What are the States Adjusted crash costs for property damage only?\"\n",
    "query15 = \"How many motors vehicle crashes were victims aged 25-34?\"\n",
    "query16 = \"How many suspected serious injuries were there for bicyclists in 2022?\"\n",
    "query17 = \"How many fatal crashes were there on the Labor Day weekend in 2023?\""
   ]
  },
  {
   "cell_type": "markdown",
   "metadata": {},
   "source": [
    "# Method 1 (Directly the PDF tables)"
   ]
  },
  {
   "cell_type": "markdown",
   "metadata": {},
   "source": [
    "## Reading the PDF"
   ]
  },
  {
   "cell_type": "code",
   "execution_count": 2,
   "metadata": {},
   "outputs": [],
   "source": [
    "from pypdf import PdfReader"
   ]
  },
  {
   "cell_type": "code",
   "execution_count": 3,
   "metadata": {},
   "outputs": [],
   "source": [
    "reader = PdfReader(\"data/2023-Crash-Facts_0.pdf\")"
   ]
  },
  {
   "cell_type": "code",
   "execution_count": 4,
   "metadata": {},
   "outputs": [],
   "source": [
    "all_text = \"\"\n",
    "for page in reader.pages:\n",
    "    text = page.extract_text()\n",
    "    all_text += text"
   ]
  },
  {
   "cell_type": "code",
   "execution_count": 5,
   "metadata": {},
   "outputs": [],
   "source": [
    "# Save the text to a file\n",
    "import os\n",
    "os.makedirs(\"output\", exist_ok=True)\n",
    "with open(\"output/2023-Crash-Facts.txt\", \"w\") as text_file:\n",
    "    text_file.write(all_text)"
   ]
  },
  {
   "cell_type": "markdown",
   "metadata": {},
   "source": [
    "## Indexing"
   ]
  },
  {
   "cell_type": "code",
   "execution_count": 6,
   "metadata": {},
   "outputs": [],
   "source": [
    "from langchain_community.document_loaders import TextLoader\n",
    "\n",
    "loader = TextLoader(\"output/2023-Crash-Facts.txt\")\n",
    "text = loader.load()"
   ]
  },
  {
   "cell_type": "code",
   "execution_count": 7,
   "metadata": {},
   "outputs": [],
   "source": [
    "from langchain_text_splitters import RecursiveCharacterTextSplitter\n",
    "\n",
    "text_splitter = RecursiveCharacterTextSplitter(chunk_size=1000, chunk_overlap=200)\n",
    "all_splits = text_splitter.split_documents(text)"
   ]
  },
  {
   "cell_type": "code",
   "execution_count": 8,
   "metadata": {},
   "outputs": [
    {
     "name": "stderr",
     "output_type": "stream",
     "text": [
      "/home/omar-haroon/Downloads/sb_work/arizona_crash_facts/venv/lib/python3.12/site-packages/tqdm/auto.py:21: TqdmWarning: IProgress not found. Please update jupyter and ipywidgets. See https://ipywidgets.readthedocs.io/en/stable/user_install.html\n",
      "  from .autonotebook import tqdm as notebook_tqdm\n"
     ]
    }
   ],
   "source": [
    "from langchain_huggingface import HuggingFaceEmbeddings\n",
    "from langchain_community.vectorstores import Annoy\n",
    "\n",
    "embeddings = HuggingFaceEmbeddings(\n",
    "    model_name=\"sentence-transformers/multi-qa-mpnet-base-cos-v1\"\n",
    ")"
   ]
  },
  {
   "cell_type": "code",
   "execution_count": 9,
   "metadata": {},
   "outputs": [],
   "source": [
    "vectorstore = Annoy.from_documents(all_splits, embedding=embeddings)"
   ]
  },
  {
   "cell_type": "code",
   "execution_count": 10,
   "metadata": {},
   "outputs": [],
   "source": [
    "vectorstore.save_local(\"annoy_vector_store(method_1)\")"
   ]
  },
  {
   "cell_type": "code",
   "execution_count": 11,
   "metadata": {},
   "outputs": [],
   "source": [
    "semantic_retriever = vectorstore.as_retriever()"
   ]
  },
  {
   "cell_type": "markdown",
   "metadata": {},
   "source": [
    "## RAG"
   ]
  },
  {
   "cell_type": "code",
   "execution_count": 12,
   "metadata": {},
   "outputs": [],
   "source": [
    "from langchain import hub\n",
    "from langchain_core.runnables import RunnablePassthrough\n",
    "from langchain_core.output_parsers import StrOutputParser\n",
    "from langchain_openai import ChatOpenAI"
   ]
  },
  {
   "cell_type": "code",
   "execution_count": 13,
   "metadata": {},
   "outputs": [],
   "source": [
    "llm = ChatOpenAI(temperature=0, model=\"gpt-4o-mini\")"
   ]
  },
  {
   "cell_type": "code",
   "execution_count": 14,
   "metadata": {},
   "outputs": [
    {
     "name": "stderr",
     "output_type": "stream",
     "text": [
      "/home/omar-haroon/Downloads/sb_work/arizona_crash_facts/venv/lib/python3.12/site-packages/langsmith/client.py:277: LangSmithMissingAPIKeyWarning: API key must be provided when using hosted LangSmith API\n",
      "  warnings.warn(\n"
     ]
    }
   ],
   "source": [
    "prompt = hub.pull(\"rlm/rag-prompt\")\n",
    "\n",
    "def format_docs(docs):\n",
    "    return \"\\n\\n\".join(doc.page_content for doc in docs)"
   ]
  },
  {
   "cell_type": "code",
   "execution_count": 15,
   "metadata": {},
   "outputs": [],
   "source": [
    "rag_chain = (\n",
    "    {\"context\": semantic_retriever | format_docs, \"question\": RunnablePassthrough()}\n",
    "    | prompt\n",
    "    | llm\n",
    "    | StrOutputParser()\n",
    ")"
   ]
  },
  {
   "cell_type": "code",
   "execution_count": 16,
   "metadata": {},
   "outputs": [],
   "source": [
    "output1 = rag_chain.invoke(query1)\n",
    "output2 = rag_chain.invoke(query2)\n",
    "output3 = rag_chain.invoke(query3)\n",
    "output4 = rag_chain.invoke(query4)\n",
    "output5 = rag_chain.invoke(query5)\n",
    "output6 = rag_chain.invoke(query6)\n",
    "output7 = rag_chain.invoke(query7)\n",
    "output8 = rag_chain.invoke(query8)\n",
    "output9 = rag_chain.invoke(query9)\n",
    "output10 = rag_chain.invoke(query10)\n",
    "output11 = rag_chain.invoke(query11)\n",
    "output12 = rag_chain.invoke(query12)\n",
    "output13 = rag_chain.invoke(query13)\n",
    "output14 = rag_chain.invoke(query14)\n",
    "output15 = rag_chain.invoke(query15)\n",
    "output16 = rag_chain.invoke(query16)\n",
    "output17 = rag_chain.invoke(query17)"
   ]
  },
  {
   "cell_type": "code",
   "execution_count": 17,
   "metadata": {},
   "outputs": [
    {
     "name": "stdout",
     "output_type": "stream",
     "text": [
      "Query 1: What percentage of total crashes in Arizona were fatal in 2023?\n",
      "Answer: In 2023, there were 1,307 traffic fatalities in Arizona. Given that the total number of crashes was 122,247, the percentage of total crashes that were fatal is approximately 1.07%.\n",
      "\n",
      "Query 2: How many crashes in Arizona in 2023 were alcohol-related, and what portion of them were fatal?\n",
      "Answer: In 2023, there were 5,761 alcohol-related crashes in Arizona. Out of these, 308 were fatal, which means approximately 5.35% of alcohol-related crashes resulted in fatalities.\n",
      "\n",
      "Query 3: What was the peak hour for all crashes in Arizona in 2023, and how does it differ from the peak hour for fatal crashes?\n",
      "Answer: The peak hour for all crashes in Arizona in 2023 was from 3 PM to 4 PM. In contrast, the peak hour for fatal crashes occurred between 6 PM and 7 PM. This indicates that while overall crashes peaked earlier in the afternoon, fatal crashes were more concentrated in the evening.\n",
      "\n",
      "Query 4: How many fatalities in crashes where there in Arizona in 1989?\n",
      "Answer: In Arizona in 1989, there were a total of 1,197 fatalities in crashes. This figure includes various types of crashes, such as alcohol-related and urban incidents. The data indicates a significant number of fatalities associated with both single-vehicle and multi-unit crashes.\n",
      "\n",
      "Query 5: From 2011 to 2023 which year had the least fatality in Arizona?\n",
      "Answer: The year with the least fatalities in Arizona from 2011 to 2023 was 2019, with a total of 980 fatalities.\n",
      "\n",
      "Query 6: How much percentage change was there in Rural Fatalities between 2022 and 2023?\n",
      "Answer: The percentage change in Rural Fatalities between 2022 and 2023 is not explicitly provided in the context. Therefore, I don't know the exact percentage change.\n",
      "\n",
      "Query 7: What is the economic cost of motor vehicle crashes for Arizona in 2023?\n",
      "Answer: The economic cost of motor vehicle crashes for Arizona in 2023 is approximately $21.638 billion. This total includes costs associated with fatalities, serious injuries, minor injuries, possible injuries, and property damage.\n",
      "\n",
      "Query 8: How much percentage change was there in Rural Fatalities between 2022 and 2023?\n",
      "Answer: The percentage change in Rural Fatalities between 2022 and 2023 is not explicitly provided in the context. Therefore, I don't know the exact percentage change.\n",
      "\n",
      "Query 9: How many licensed drivers were there in 2017?\n",
      "Answer: I don't know.\n",
      "\n",
      "Query 10: How many total registered vehicles were there in 2018?\n",
      "Answer: In 2018, there were a total of 6,009,850 registered vehicles.\n",
      "\n",
      "Query 11: How much is the estimated motor vehicle miles traveled in 2023?\n",
      "Answer: The estimated motor vehicle miles traveled (VMT) in 2023 is 76,165 million. This figure represents a slight decrease of 0.95% compared to the previous year.\n",
      "\n",
      "Query 12: How much is the Arizona fatality rate in 2023?\n",
      "Answer: The Arizona fatality rate in 2023 is 1.73 per 100 million vehicle miles traveled. This rate is consistent with the previous year's rate. Additionally, there were 1,307 traffic fatalities reported in 2023.\n",
      "\n",
      "Query 13: Which county had the highest economic loss?\n",
      "Answer: Coconino County had the highest economic loss due to motor vehicle crashes, totaling $805,817,166. This includes costs from fatalities, injuries, and property damage.\n",
      "\n",
      "Query 14: What are the States Adjusted crash costs for property damage only?\n",
      "Answer: The State Adjusted crash costs for property damage only are $896,853,000. This figure is part of the total estimated economic loss due to motor vehicle crashes in Arizona, which amounts to $21,638,265,446.\n",
      "\n",
      "Query 15: How many motors vehicle crashes were victims aged 25-34?\n",
      "Answer: The context does not provide specific information about the number of motor vehicle crashes involving victims aged 25-34. Therefore, I don't know the answer.\n",
      "\n",
      "Query 16: How many suspected serious injuries were there for bicyclists in 2022?\n",
      "Answer: In 2022, there were 3,674 suspected serious injuries for bicyclists.\n",
      "\n",
      "Query 17: How many fatal crashes were there on the Labor Day weekend in 2023?\n",
      "Answer: There were 15 fatal crashes on the Labor Day weekend in 2023.\n",
      "\n"
     ]
    }
   ],
   "source": [
    "print(f\"Query 1: {query1}\\nAnswer: {output1}\\n\")\n",
    "print(f\"Query 2: {query2}\\nAnswer: {output2}\\n\")\n",
    "print(f\"Query 3: {query3}\\nAnswer: {output3}\\n\")\n",
    "print(f\"Query 4: {query4}\\nAnswer: {output4}\\n\")\n",
    "print(f\"Query 5: {query5}\\nAnswer: {output5}\\n\")\n",
    "print(f\"Query 6: {query6}\\nAnswer: {output6}\\n\")\n",
    "print(f\"Query 7: {query7}\\nAnswer: {output7}\\n\")\n",
    "print(f\"Query 8: {query8}\\nAnswer: {output8}\\n\")\n",
    "print(f\"Query 9: {query9}\\nAnswer: {output9}\\n\")\n",
    "print(f\"Query 10: {query10}\\nAnswer: {output10}\\n\")\n",
    "print(f\"Query 11: {query11}\\nAnswer: {output11}\\n\")\n",
    "print(f\"Query 12: {query12}\\nAnswer: {output12}\\n\")\n",
    "print(f\"Query 13: {query13}\\nAnswer: {output13}\\n\")\n",
    "print(f\"Query 14: {query14}\\nAnswer: {output14}\\n\")\n",
    "print(f\"Query 15: {query15}\\nAnswer: {output15}\\n\")\n",
    "print(f\"Query 16: {query16}\\nAnswer: {output16}\\n\")\n",
    "print(f\"Query 17: {query17}\\nAnswer: {output17}\\n\")"
   ]
  },
  {
   "cell_type": "markdown",
   "metadata": {},
   "source": [
    "# Method 2 (Separating tables using document intelligence and giving tables)"
   ]
  },
  {
   "cell_type": "code",
   "execution_count": 2,
   "metadata": {},
   "outputs": [],
   "source": [
    "with open(\"output_document_intelligence/cleaned_output.md\", \"r\") as file:\n",
    "    cleaned_output = file.read()"
   ]
  },
  {
   "cell_type": "code",
   "execution_count": 3,
   "metadata": {},
   "outputs": [],
   "source": [
    "# Split the data into tables and text\n",
    "tables = []\n",
    "text = []\n",
    "over_all = []"
   ]
  },
  {
   "cell_type": "code",
   "execution_count": 4,
   "metadata": {},
   "outputs": [],
   "source": [
    "# Split the data by <table> tags\n",
    "parts = cleaned_output.split(\"<table>\")"
   ]
  },
  {
   "cell_type": "code",
   "execution_count": 5,
   "metadata": {},
   "outputs": [],
   "source": [
    "for part in parts:\n",
    "    if \"</table>\" in part:\n",
    "        # Extract the table content\n",
    "        table_content = part.split(\"</table>\")[0]\n",
    "        tables.append(f\"<table>{table_content}</table>\")\n",
    "        over_all.append(f\"<table>{table_content}</table>\")\n",
    "        # Add any text after the table\n",
    "        remaining_text = part.split(\"</table>\")[1].strip()\n",
    "        if remaining_text:\n",
    "            text.append(remaining_text)\n",
    "            over_all.append(remaining_text)\n",
    "    else:\n",
    "        # Add text that is not part of a table\n",
    "        if part.strip():\n",
    "            text.append(part.strip())\n",
    "            over_all.append(part.strip())"
   ]
  },
  {
   "cell_type": "code",
   "execution_count": 6,
   "metadata": {},
   "outputs": [
    {
     "name": "stdout",
     "output_type": "stream",
     "text": [
      "Tables: 96\n",
      "Text: 52\n",
      "Overall: 148\n"
     ]
    }
   ],
   "source": [
    "print(f\"Tables: {len(tables)}\")\n",
    "print(f\"Text: {len(text)}\")\n",
    "print(f\"Overall: {len(over_all)}\")"
   ]
  },
  {
   "cell_type": "code",
   "execution_count": 7,
   "metadata": {},
   "outputs": [],
   "source": [
    "# combine the tables and text into a single list\n",
    "combined_data = []\n",
    "for i in range(max(len(tables), len(text))):\n",
    "    if i < len(tables):\n",
    "        combined_data.append(tables[i])\n",
    "    if i < len(text):\n",
    "        combined_data.append(text[i])"
   ]
  },
  {
   "cell_type": "code",
   "execution_count": 8,
   "metadata": {},
   "outputs": [
    {
     "name": "stderr",
     "output_type": "stream",
     "text": [
      "/home/omar-haroon/Downloads/sb_work/arizona_crash_facts/venv/lib/python3.12/site-packages/tqdm/auto.py:21: TqdmWarning: IProgress not found. Please update jupyter and ipywidgets. See https://ipywidgets.readthedocs.io/en/stable/user_install.html\n",
      "  from .autonotebook import tqdm as notebook_tqdm\n"
     ]
    }
   ],
   "source": [
    "from langchain_huggingface import HuggingFaceEmbeddings\n",
    "from langchain_community.vectorstores import Annoy\n",
    "\n",
    "embeddings = HuggingFaceEmbeddings(\n",
    "    model_name=\"sentence-transformers/multi-qa-mpnet-base-cos-v1\"\n",
    ")"
   ]
  },
  {
   "cell_type": "code",
   "execution_count": 9,
   "metadata": {},
   "outputs": [],
   "source": [
    "vectorstore = Annoy.from_texts(combined_data, embedding=embeddings)"
   ]
  },
  {
   "cell_type": "code",
   "execution_count": 10,
   "metadata": {},
   "outputs": [],
   "source": [
    "vectorstore.save_local(\"annoy_vector_store(method_2)\")"
   ]
  },
  {
   "cell_type": "code",
   "execution_count": 11,
   "metadata": {},
   "outputs": [],
   "source": [
    "semantic_retriever = vectorstore.as_retriever()"
   ]
  },
  {
   "cell_type": "markdown",
   "metadata": {},
   "source": [
    "## RAG"
   ]
  },
  {
   "cell_type": "code",
   "execution_count": 12,
   "metadata": {},
   "outputs": [],
   "source": [
    "from langchain import hub\n",
    "from langchain_core.runnables import RunnablePassthrough\n",
    "from langchain_core.output_parsers import StrOutputParser\n",
    "from langchain_openai import ChatOpenAI"
   ]
  },
  {
   "cell_type": "code",
   "execution_count": 13,
   "metadata": {},
   "outputs": [],
   "source": [
    "llm = ChatOpenAI(temperature=0, model=\"gpt-4o-mini\")"
   ]
  },
  {
   "cell_type": "code",
   "execution_count": 14,
   "metadata": {},
   "outputs": [
    {
     "name": "stderr",
     "output_type": "stream",
     "text": [
      "/home/omar-haroon/Downloads/sb_work/arizona_crash_facts/venv/lib/python3.12/site-packages/langsmith/client.py:277: LangSmithMissingAPIKeyWarning: API key must be provided when using hosted LangSmith API\n",
      "  warnings.warn(\n"
     ]
    }
   ],
   "source": [
    "prompt = hub.pull(\"rlm/rag-prompt\")\n",
    "\n",
    "def format_docs(docs):\n",
    "    return \"\\n\\n\".join(doc.page_content for doc in docs)"
   ]
  },
  {
   "cell_type": "code",
   "execution_count": 15,
   "metadata": {},
   "outputs": [],
   "source": [
    "rag_chain = (\n",
    "    {\"context\": semantic_retriever | format_docs, \"question\": RunnablePassthrough()}\n",
    "    | prompt\n",
    "    | llm\n",
    "    | StrOutputParser()\n",
    ")"
   ]
  },
  {
   "cell_type": "code",
   "execution_count": 16,
   "metadata": {},
   "outputs": [],
   "source": [
    "output1 = rag_chain.invoke(query1)\n",
    "output2 = rag_chain.invoke(query2)\n",
    "output3 = rag_chain.invoke(query3)\n",
    "output4 = rag_chain.invoke(query4)\n",
    "output5 = rag_chain.invoke(query5)\n",
    "output6 = rag_chain.invoke(query6)\n",
    "output7 = rag_chain.invoke(query7)\n",
    "output8 = rag_chain.invoke(query8)\n",
    "output9 = rag_chain.invoke(query9)\n",
    "output10 = rag_chain.invoke(query10)\n",
    "output11 = rag_chain.invoke(query11)\n",
    "output12 = rag_chain.invoke(query12)\n",
    "output13 = rag_chain.invoke(query13)\n",
    "output14 = rag_chain.invoke(query14)\n",
    "output15 = rag_chain.invoke(query15)\n",
    "output16 = rag_chain.invoke(query16)\n",
    "output17 = rag_chain.invoke(query17)"
   ]
  },
  {
   "cell_type": "code",
   "execution_count": 17,
   "metadata": {},
   "outputs": [
    {
     "name": "stdout",
     "output_type": "stream",
     "text": [
      "Query 1: What percentage of total crashes in Arizona were fatal in 2023?\n",
      "Answer: In 2023, fatal crashes in Arizona accounted for 0.98% of all crashes. There were a total of 1,197 fatal crashes reported.\n",
      "\n",
      "Query 2: How many crashes in Arizona in 2023 were alcohol-related, and what portion of them were fatal?\n",
      "Answer: In 2023, alcohol-related crashes accounted for 4.71% of all crashes in Arizona, and they represented 25.73% of all fatal crashes. The specific number of alcohol-related crashes and fatalities is not provided in the context. Therefore, I don't know the exact figures for crashes and fatalities.\n",
      "\n",
      "Query 3: What was the peak hour for all crashes in Arizona in 2023, and how does it differ from the peak hour for fatal crashes?\n",
      "Answer: The retrieved context does not specify the peak hour for all crashes in Arizona in 2023 or how it differs from the peak hour for fatal crashes. Therefore, I don't know the answer.\n",
      "\n",
      "Query 4: How many fatalities in crashes where there in Arizona in 1989?\n",
      "Answer: The retrieved context does not provide specific information about the number of fatalities in crashes in Arizona in 1989. Therefore, I don't know the answer.\n",
      "\n",
      "Query 5: From 2011 to 2023 which year had the least fatality in Arizona?\n",
      "Answer: The year with the least fatalities in Arizona from 2011 to 2023 was 2014, with a total of 774 fatalities.\n",
      "\n",
      "Query 6: How much percentage change was there in Rural Fatalities between 2022 and 2023?\n",
      "Answer: The percentage change in Rural Fatalities between 2022 and 2023 was -4.82%. This indicates a decrease in rural fatalities during that period.\n",
      "\n",
      "Query 7: What is the economic cost of motor vehicle crashes for Arizona in 2023?\n",
      "Answer: The economic cost of motor vehicle crashes for Arizona in 2023 is $21.638 billion.\n",
      "\n",
      "Query 8: How much percentage change was there in Rural Fatalities between 2022 and 2023?\n",
      "Answer: The percentage change in Rural Fatalities between 2022 and 2023 was -4.82%. This indicates a decrease in rural fatalities during that period.\n",
      "\n",
      "Query 9: How many licensed drivers were there in 2017?\n",
      "Answer: In 2017, there were 5,221,403 licensed drivers. This figure includes all types of licenses, regardless of their status.\n",
      "\n",
      "Query 10: How many total registered vehicles were there in 2018?\n",
      "Answer: In 2018, there were a total of 6,009,850 registered vehicles.\n",
      "\n",
      "Query 11: How much is the estimated motor vehicle miles traveled in 2023?\n",
      "Answer: The estimated motor vehicle miles traveled in 2023 is 75,438 million miles.\n",
      "\n",
      "Query 12: How much is the Arizona fatality rate in 2023?\n",
      "Answer: The Arizona fatality rate in 2023 is 1.73 fatalities per 100 million vehicle miles traveled. This rate is consistent with the rate from 2022. There were a total of 1,307 fatalities in the state that year.\n",
      "\n",
      "Query 13: Which county had the highest economic loss?\n",
      "Answer: Maricopa County had the highest economic loss, totaling $12,554,528,319. This figure includes costs associated with fatalities, injuries, and property damage from traffic crashes.\n",
      "\n",
      "Query 14: What are the States Adjusted crash costs for property damage only?\n",
      "Answer: The States Adjusted crash cost for property damage only is $10,680.\n",
      "\n",
      "Query 15: How many motors vehicle crashes were victims aged 25-34?\n",
      "Answer: The provided context does not specify the number of motor vehicle crashes involving victims aged 25-34. Therefore, I don't know the answer.\n",
      "\n",
      "Query 16: How many suspected serious injuries were there for bicyclists in 2022?\n",
      "Answer: In 2022, there were 140 suspected serious injuries for bicyclists.\n",
      "\n",
      "Query 17: How many fatal crashes were there on the Labor Day weekend in 2023?\n",
      "Answer: There were 15 fatal crashes on Labor Day weekend in 2023.\n",
      "\n"
     ]
    }
   ],
   "source": [
    "print(f\"Query 1: {query1}\\nAnswer: {output1}\\n\")\n",
    "print(f\"Query 2: {query2}\\nAnswer: {output2}\\n\")\n",
    "print(f\"Query 3: {query3}\\nAnswer: {output3}\\n\")\n",
    "print(f\"Query 4: {query4}\\nAnswer: {output4}\\n\")\n",
    "print(f\"Query 5: {query5}\\nAnswer: {output5}\\n\")\n",
    "print(f\"Query 6: {query6}\\nAnswer: {output6}\\n\")\n",
    "print(f\"Query 7: {query7}\\nAnswer: {output7}\\n\")\n",
    "print(f\"Query 8: {query8}\\nAnswer: {output8}\\n\")\n",
    "print(f\"Query 9: {query9}\\nAnswer: {output9}\\n\")\n",
    "print(f\"Query 10: {query10}\\nAnswer: {output10}\\n\")\n",
    "print(f\"Query 11: {query11}\\nAnswer: {output11}\\n\")\n",
    "print(f\"Query 12: {query12}\\nAnswer: {output12}\\n\")\n",
    "print(f\"Query 13: {query13}\\nAnswer: {output13}\\n\")\n",
    "print(f\"Query 14: {query14}\\nAnswer: {output14}\\n\")\n",
    "print(f\"Query 15: {query15}\\nAnswer: {output15}\\n\")\n",
    "print(f\"Query 16: {query16}\\nAnswer: {output16}\\n\")\n",
    "print(f\"Query 17: {query17}\\nAnswer: {output17}\\n\")"
   ]
  },
  {
   "cell_type": "markdown",
   "metadata": {},
   "source": [
    "# Method 3 (Summarizing the table using LLM and giving the summarized paragraph along with the tables)"
   ]
  },
  {
   "cell_type": "markdown",
   "metadata": {},
   "source": [
    "## Preprocessing the data"
   ]
  },
  {
   "cell_type": "markdown",
   "metadata": {},
   "source": [
    "### Reading the cleaned output"
   ]
  },
  {
   "cell_type": "code",
   "execution_count": 2,
   "metadata": {},
   "outputs": [],
   "source": [
    "import re"
   ]
  },
  {
   "cell_type": "code",
   "execution_count": 3,
   "metadata": {},
   "outputs": [],
   "source": [
    "with open(\"output_document_intelligence/cleaned_output.md\", \"r\") as file:\n",
    "    cleaned_output = file.read()"
   ]
  },
  {
   "cell_type": "code",
   "execution_count": 4,
   "metadata": {},
   "outputs": [],
   "source": [
    "# Split the data into tables and text\n",
    "tables = []\n",
    "text = []\n",
    "over_all = []"
   ]
  },
  {
   "cell_type": "code",
   "execution_count": 5,
   "metadata": {},
   "outputs": [],
   "source": [
    "# Split the data by <table> tags\n",
    "parts = cleaned_output.split(\"<table>\")"
   ]
  },
  {
   "cell_type": "code",
   "execution_count": 6,
   "metadata": {},
   "outputs": [],
   "source": [
    "for part in parts:\n",
    "    if \"</table>\" in part:\n",
    "        # Extract the table content\n",
    "        table_content = part.split(\"</table>\")[0]\n",
    "        tables.append(f\"<table>{table_content}</table>\")\n",
    "        over_all.append(f\"<table>{table_content}</table>\")\n",
    "        # Add any text after the table\n",
    "        remaining_text = part.split(\"</table>\")[1].strip()\n",
    "        if remaining_text:\n",
    "            text.append(remaining_text)\n",
    "            over_all.append(remaining_text)\n",
    "    else:\n",
    "        # Add text that is not part of a table\n",
    "        if part.strip():\n",
    "            text.append(part.strip())\n",
    "            over_all.append(part.strip())"
   ]
  },
  {
   "cell_type": "code",
   "execution_count": 7,
   "metadata": {},
   "outputs": [
    {
     "name": "stdout",
     "output_type": "stream",
     "text": [
      "Tables: 96\n",
      "Text: 52\n",
      "Overall: 148\n"
     ]
    }
   ],
   "source": [
    "print(f\"Tables: {len(tables)}\")\n",
    "print(f\"Text: {len(text)}\")\n",
    "print(f\"Overall: {len(over_all)}\")"
   ]
  },
  {
   "cell_type": "markdown",
   "metadata": {},
   "source": [
    "### Reading the summarized table file"
   ]
  },
  {
   "cell_type": "code",
   "execution_count": 8,
   "metadata": {},
   "outputs": [],
   "source": [
    "with open(\"output_document_intelligence/summarized_tables_prompt2.md\", \"r\") as file:\n",
    "    summarized_table = file.read()"
   ]
  },
  {
   "cell_type": "code",
   "execution_count": 9,
   "metadata": {},
   "outputs": [],
   "source": [
    "# Define regex pattern to extract tables\n",
    "pattern = r\"Table \\d+:\\n\\n(.*?)\\n\\n(?=Table \\d+:|\\.\\.\\.\\.\\.\\.\\.\\.\\.)\""
   ]
  },
  {
   "cell_type": "code",
   "execution_count": 10,
   "metadata": {},
   "outputs": [],
   "source": [
    "# Extract tables\n",
    "tables_summary_cleaned = re.findall(pattern, summarized_table, re.DOTALL)"
   ]
  },
  {
   "cell_type": "markdown",
   "metadata": {},
   "source": [
    "### Merging both the tables"
   ]
  },
  {
   "cell_type": "code",
   "execution_count": 11,
   "metadata": {},
   "outputs": [],
   "source": [
    "table_summary_mapping = {}"
   ]
  },
  {
   "cell_type": "code",
   "execution_count": 12,
   "metadata": {},
   "outputs": [],
   "source": [
    "# zip the tables and summaries together\n",
    "\n",
    "for table, summary in zip(tables, tables_summary_cleaned):\n",
    "    table_summary_mapping[table] = summary.strip()"
   ]
  },
  {
   "cell_type": "markdown",
   "metadata": {},
   "source": [
    "## Indexing"
   ]
  },
  {
   "cell_type": "code",
   "execution_count": 13,
   "metadata": {},
   "outputs": [],
   "source": [
    "table_list = []\n",
    "\n",
    "for table, summary in table_summary_mapping.items():\n",
    "    table_list.append(f\"Table: {table}\\nSummary: {summary}\")"
   ]
  },
  {
   "cell_type": "code",
   "execution_count": 14,
   "metadata": {},
   "outputs": [
    {
     "name": "stderr",
     "output_type": "stream",
     "text": [
      "/home/omar-haroon/Downloads/sb_work/arizona_crash_facts/venv/lib/python3.12/site-packages/tqdm/auto.py:21: TqdmWarning: IProgress not found. Please update jupyter and ipywidgets. See https://ipywidgets.readthedocs.io/en/stable/user_install.html\n",
      "  from .autonotebook import tqdm as notebook_tqdm\n"
     ]
    }
   ],
   "source": [
    "from langchain_huggingface import HuggingFaceEmbeddings\n",
    "from langchain_community.vectorstores import Annoy\n",
    "\n",
    "embeddings = HuggingFaceEmbeddings(\n",
    "    model_name=\"sentence-transformers/multi-qa-mpnet-base-cos-v1\"\n",
    ")"
   ]
  },
  {
   "cell_type": "code",
   "execution_count": 15,
   "metadata": {},
   "outputs": [],
   "source": [
    "vectorstore = Annoy.from_texts(table_list, embedding=embeddings)"
   ]
  },
  {
   "cell_type": "code",
   "execution_count": 16,
   "metadata": {},
   "outputs": [],
   "source": [
    "vectorstore.save_local(\"annoy_vector_store(method_3)\")"
   ]
  },
  {
   "cell_type": "code",
   "execution_count": 25,
   "metadata": {},
   "outputs": [],
   "source": [
    "semantic_retriever = vectorstore.as_retriever()"
   ]
  },
  {
   "cell_type": "markdown",
   "metadata": {},
   "source": [
    "## RAG"
   ]
  },
  {
   "cell_type": "code",
   "execution_count": 26,
   "metadata": {},
   "outputs": [],
   "source": [
    "from langchain import hub\n",
    "from langchain_core.runnables import RunnablePassthrough\n",
    "from langchain_core.output_parsers import StrOutputParser\n",
    "from langchain_openai import ChatOpenAI"
   ]
  },
  {
   "cell_type": "code",
   "execution_count": 27,
   "metadata": {},
   "outputs": [],
   "source": [
    "llm = ChatOpenAI(temperature=0, model=\"gpt-4o-mini\")"
   ]
  },
  {
   "cell_type": "code",
   "execution_count": 28,
   "metadata": {},
   "outputs": [
    {
     "name": "stderr",
     "output_type": "stream",
     "text": [
      "/home/omar-haroon/Downloads/sb_work/arizona_crash_facts/venv/lib/python3.12/site-packages/langsmith/client.py:277: LangSmithMissingAPIKeyWarning: API key must be provided when using hosted LangSmith API\n",
      "  warnings.warn(\n"
     ]
    }
   ],
   "source": [
    "prompt = hub.pull(\"rlm/rag-prompt\")\n",
    "\n",
    "def format_docs(docs):\n",
    "    return \"\\n\\n\".join(doc.page_content for doc in docs)"
   ]
  },
  {
   "cell_type": "code",
   "execution_count": 29,
   "metadata": {},
   "outputs": [],
   "source": [
    "rag_chain = (\n",
    "    {\"context\": semantic_retriever | format_docs, \"question\": RunnablePassthrough()}\n",
    "    | prompt\n",
    "    | llm\n",
    "    | StrOutputParser()\n",
    ")"
   ]
  },
  {
   "cell_type": "code",
   "execution_count": 30,
   "metadata": {},
   "outputs": [],
   "source": [
    "output1 = rag_chain.invoke(query1)\n",
    "output2 = rag_chain.invoke(query2)\n",
    "output3 = rag_chain.invoke(query3)\n",
    "output4 = rag_chain.invoke(query4)\n",
    "output5 = rag_chain.invoke(query5)\n",
    "output6 = rag_chain.invoke(query6)\n",
    "output7 = rag_chain.invoke(query7)\n",
    "output8 = rag_chain.invoke(query8)\n",
    "output9 = rag_chain.invoke(query9)\n",
    "output10 = rag_chain.invoke(query10)\n",
    "output11 = rag_chain.invoke(query11)\n",
    "output12 = rag_chain.invoke(query12)\n",
    "output13 = rag_chain.invoke(query13)\n",
    "output14 = rag_chain.invoke(query14)\n",
    "output15 = rag_chain.invoke(query15)\n",
    "output16 = rag_chain.invoke(query16)\n",
    "output17 = rag_chain.invoke(query17)"
   ]
  },
  {
   "cell_type": "code",
   "execution_count": 31,
   "metadata": {},
   "outputs": [
    {
     "name": "stdout",
     "output_type": "stream",
     "text": [
      "Query 1: What percentage of total crashes in Arizona were fatal in 2023?\n",
      "Answer: In 2023, 1,197 out of a total of 122,247 crashes in Arizona were fatal. This means that approximately 0.98% of all crashes were fatal.\n",
      "\n",
      "Query 2: How many crashes in Arizona in 2023 were alcohol-related, and what portion of them were fatal?\n",
      "Answer: In 2023, there were 5,761 alcohol-related crashes in Arizona. Out of these, 308 were fatal, which means approximately 5.34% of alcohol-related crashes resulted in fatalities.\n",
      "\n",
      "Query 3: What was the peak hour for all crashes in Arizona in 2023, and how does it differ from the peak hour for fatal crashes?\n",
      "Answer: The peak hour for all crashes in Arizona in 2023 was from 3 PM to 4 PM. In contrast, the peak hour for fatal crashes occurred from 6 PM to 7 PM. This indicates that the highest volume of crashes does not coincide with the highest number of fatal incidents.\n",
      "\n",
      "Query 4: How many fatalities in crashes where there in Arizona in 1989?\n",
      "Answer: In Arizona in 1989, there were 1,197 fatalities in crashes.\n",
      "\n",
      "Query 5: From 2011 to 2023 which year had the least fatality in Arizona?\n",
      "Answer: The year with the least fatalities in Arizona from 2011 to 2023 was 2011, with a total of 827 fatalities.\n",
      "\n",
      "Query 6: How much percentage change was there in Rural Fatalities between 2022 and 2023?\n",
      "Answer: The percentage change in Rural Fatalities between 2022 and 2023 was -4.82%. This indicates a decrease in rural fatalities during that period.\n",
      "\n",
      "Query 7: What is the economic cost of motor vehicle crashes for Arizona in 2023?\n",
      "Answer: The economic cost of motor vehicle crashes in Arizona for 2023 is approximately $21,638,265,446. This total includes costs associated with fatalities, serious injuries, minor injuries, possible injuries, and property damage. The data underscores the significant financial burden that motor vehicle crashes impose on the state.\n",
      "\n",
      "Query 8: How much percentage change was there in Rural Fatalities between 2022 and 2023?\n",
      "Answer: The percentage change in Rural Fatalities between 2022 and 2023 was -4.82%. This indicates a decrease in rural fatalities during that period.\n",
      "\n",
      "Query 9: How many licensed drivers were there in 2017?\n",
      "Answer: In 2017, there were 5,221,403 licensed drivers in Arizona. This figure reflects the total number of individuals authorized to drive in the state for that year.\n",
      "\n",
      "Query 10: How many total registered vehicles were there in 2018?\n",
      "Answer: In 2018, there were a total of 6,009,850 registered vehicles in Arizona. This figure includes all categories of vehicles registered in the state.\n",
      "\n",
      "Query 11: How much is the estimated motor vehicle miles traveled in 2023?\n",
      "Answer: The estimated motor vehicle miles traveled in 2023 is 75,438 million miles.\n",
      "\n",
      "Query 12: How much is the Arizona fatality rate in 2023?\n",
      "Answer: The Arizona fatality rate in 2023 is 1.73. This rate reflects the number of traffic fatalities per 100 million vehicle miles traveled.\n",
      "\n",
      "Query 13: Which county had the highest economic loss?\n",
      "Answer: Maricopa County had the highest economic loss, totaling $12,554,528,319 due to traffic crashes. This figure includes costs associated with fatalities, injuries, and property damage. Coconino County followed with a total loss of $805,817,166.\n",
      "\n",
      "Query 14: What are the States Adjusted crash costs for property damage only?\n",
      "Answer: The States Adjusted crash cost for property damage only is $10,680. This figure reflects the economic impact of incidents that result solely in property damage.\n",
      "\n",
      "Query 15: How many motors vehicle crashes were victims aged 25-34?\n",
      "Answer: I don't know.\n",
      "\n",
      "Query 16: How many suspected serious injuries were there for bicyclists in 2022?\n",
      "Answer: In 2022, there were 140 suspected serious injuries for bicyclists. This figure is part of a broader analysis of traffic incidents involving various road users. The data indicates a slight increase in serious injuries compared to previous years.\n",
      "\n",
      "Query 17: How many fatal crashes were there on the Labor Day weekend in 2023?\n",
      "Answer: There were 15 fatal crashes on Labor Day weekend in 2023.\n",
      "\n"
     ]
    }
   ],
   "source": [
    "print(f\"Query 1: {query1}\\nAnswer: {output1}\\n\")\n",
    "print(f\"Query 2: {query2}\\nAnswer: {output2}\\n\")\n",
    "print(f\"Query 3: {query3}\\nAnswer: {output3}\\n\")\n",
    "print(f\"Query 4: {query4}\\nAnswer: {output4}\\n\")\n",
    "print(f\"Query 5: {query5}\\nAnswer: {output5}\\n\")\n",
    "print(f\"Query 6: {query6}\\nAnswer: {output6}\\n\")\n",
    "print(f\"Query 7: {query7}\\nAnswer: {output7}\\n\")\n",
    "print(f\"Query 8: {query8}\\nAnswer: {output8}\\n\")\n",
    "print(f\"Query 9: {query9}\\nAnswer: {output9}\\n\")\n",
    "print(f\"Query 10: {query10}\\nAnswer: {output10}\\n\")\n",
    "print(f\"Query 11: {query11}\\nAnswer: {output11}\\n\")\n",
    "print(f\"Query 12: {query12}\\nAnswer: {output12}\\n\")\n",
    "print(f\"Query 13: {query13}\\nAnswer: {output13}\\n\")\n",
    "print(f\"Query 14: {query14}\\nAnswer: {output14}\\n\")\n",
    "print(f\"Query 15: {query15}\\nAnswer: {output15}\\n\")\n",
    "print(f\"Query 16: {query16}\\nAnswer: {output16}\\n\")\n",
    "print(f\"Query 17: {query17}\\nAnswer: {output17}\\n\")"
   ]
  },
  {
   "cell_type": "markdown",
   "metadata": {},
   "source": [
    "# Method 4 (Sending the summarized paragraph only)"
   ]
  },
  {
   "cell_type": "markdown",
   "metadata": {},
   "source": [
    "## Preprocessing the data"
   ]
  },
  {
   "cell_type": "markdown",
   "metadata": {},
   "source": [
    "### Reading the cleaned output"
   ]
  },
  {
   "cell_type": "code",
   "execution_count": 2,
   "metadata": {},
   "outputs": [],
   "source": [
    "import re"
   ]
  },
  {
   "cell_type": "code",
   "execution_count": 3,
   "metadata": {},
   "outputs": [],
   "source": [
    "with open(\"output_document_intelligence/cleaned_output.md\", \"r\") as file:\n",
    "    cleaned_output = file.read()"
   ]
  },
  {
   "cell_type": "code",
   "execution_count": 4,
   "metadata": {},
   "outputs": [],
   "source": [
    "# Split the data into tables and text\n",
    "tables = []\n",
    "text = []\n",
    "over_all = []"
   ]
  },
  {
   "cell_type": "code",
   "execution_count": 5,
   "metadata": {},
   "outputs": [],
   "source": [
    "# Split the data by <table> tags\n",
    "parts = cleaned_output.split(\"<table>\")"
   ]
  },
  {
   "cell_type": "code",
   "execution_count": 6,
   "metadata": {},
   "outputs": [],
   "source": [
    "for part in parts:\n",
    "  if \"</table>\" in part:\n",
    "    # Extract the table content\n",
    "    table_content = part.split(\"</table>\")[0]\n",
    "    tables.append(f\"<table>{table_content}</table>\")\n",
    "    over_all.append(f\"<table>{table_content}</table>\")\n",
    "    # Add any text after the table\n",
    "    remaining_text = part.split(\"</table>\")[1].strip()\n",
    "    if remaining_text:\n",
    "      text.append(remaining_text)\n",
    "      over_all.append(remaining_text)\n",
    "  else:\n",
    "    # Add text that is not part of a table\n",
    "    if part.strip():\n",
    "      text.append(part.strip())\n",
    "      over_all.append(part.strip())"
   ]
  },
  {
   "cell_type": "code",
   "execution_count": 7,
   "metadata": {},
   "outputs": [
    {
     "name": "stdout",
     "output_type": "stream",
     "text": [
      "Tables: 96\n",
      "Text: 52\n",
      "Overall: 148\n"
     ]
    }
   ],
   "source": [
    "print(f\"Tables: {len(tables)}\")\n",
    "print(f\"Text: {len(text)}\")\n",
    "print(f\"Overall: {len(over_all)}\")"
   ]
  },
  {
   "cell_type": "markdown",
   "metadata": {},
   "source": [
    "### Reading the summarized table file"
   ]
  },
  {
   "cell_type": "code",
   "execution_count": 8,
   "metadata": {},
   "outputs": [],
   "source": [
    "with open(\"output_document_intelligence/summarized_tables_prompt2.md\", \"r\") as file:\n",
    "    summarized_table = file.read()"
   ]
  },
  {
   "cell_type": "code",
   "execution_count": 9,
   "metadata": {},
   "outputs": [],
   "source": [
    "# Define regex pattern to extract tables\n",
    "pattern = r\"Table \\d+:\\n\\n(.*?)\\n\\n(?=Table \\d+:|\\.\\.\\.\\.\\.\\.\\.\\.\\.)\""
   ]
  },
  {
   "cell_type": "code",
   "execution_count": 10,
   "metadata": {},
   "outputs": [],
   "source": [
    "# Extract tables\n",
    "tables_summary_cleaned = re.findall(pattern, summarized_table, re.DOTALL)"
   ]
  },
  {
   "cell_type": "markdown",
   "metadata": {},
   "source": [
    "### Merging both the tables"
   ]
  },
  {
   "cell_type": "code",
   "execution_count": 11,
   "metadata": {},
   "outputs": [],
   "source": [
    "table_summary_mapping = {}\n",
    "summary_table_mapping = {}"
   ]
  },
  {
   "cell_type": "code",
   "execution_count": 12,
   "metadata": {},
   "outputs": [],
   "source": [
    "# zip the tables and summaries together\n",
    "\n",
    "for table, summary in zip(tables, tables_summary_cleaned):\n",
    "    table_summary_mapping[table] = summary.strip()\n",
    "    summary_table_mapping[summary.strip()] = table"
   ]
  },
  {
   "cell_type": "code",
   "execution_count": 13,
   "metadata": {},
   "outputs": [],
   "source": [
    "summaries = list(summary_table_mapping.keys())"
   ]
  },
  {
   "cell_type": "code",
   "execution_count": 14,
   "metadata": {},
   "outputs": [
    {
     "name": "stderr",
     "output_type": "stream",
     "text": [
      "/home/omar-haroon/Downloads/sb_work/arizona_crash_facts/venv/lib/python3.12/site-packages/tqdm/auto.py:21: TqdmWarning: IProgress not found. Please update jupyter and ipywidgets. See https://ipywidgets.readthedocs.io/en/stable/user_install.html\n",
      "  from .autonotebook import tqdm as notebook_tqdm\n"
     ]
    }
   ],
   "source": [
    "from langchain_huggingface import HuggingFaceEmbeddings\n",
    "from langchain_community.vectorstores import Annoy\n",
    "\n",
    "embeddings = HuggingFaceEmbeddings(\n",
    "    model_name=\"sentence-transformers/multi-qa-mpnet-base-cos-v1\"\n",
    ")"
   ]
  },
  {
   "cell_type": "code",
   "execution_count": 15,
   "metadata": {},
   "outputs": [],
   "source": [
    "vectorstore = Annoy.from_texts(summaries, embedding=embeddings)"
   ]
  },
  {
   "cell_type": "code",
   "execution_count": 16,
   "metadata": {},
   "outputs": [],
   "source": [
    "vectorstore.save_local(\"annoy_vector_store(method_4)\")"
   ]
  },
  {
   "cell_type": "code",
   "execution_count": 42,
   "metadata": {},
   "outputs": [],
   "source": [
    "semantic_retriever = vectorstore.as_retriever(search_type=\"mmr\")"
   ]
  },
  {
   "cell_type": "markdown",
   "metadata": {},
   "source": [
    "## RAG"
   ]
  },
  {
   "cell_type": "code",
   "execution_count": 43,
   "metadata": {},
   "outputs": [],
   "source": [
    "from langchain import hub\n",
    "from langchain_core.runnables import RunnablePassthrough\n",
    "from langchain_core.output_parsers import StrOutputParser\n",
    "from langchain_openai import ChatOpenAI"
   ]
  },
  {
   "cell_type": "code",
   "execution_count": 44,
   "metadata": {},
   "outputs": [],
   "source": [
    "llm = ChatOpenAI(temperature=0, model=\"gpt-4o-mini\")"
   ]
  },
  {
   "cell_type": "code",
   "execution_count": 45,
   "metadata": {},
   "outputs": [
    {
     "name": "stderr",
     "output_type": "stream",
     "text": [
      "/home/omar-haroon/Downloads/sb_work/arizona_crash_facts/venv/lib/python3.12/site-packages/langsmith/client.py:277: LangSmithMissingAPIKeyWarning: API key must be provided when using hosted LangSmith API\n",
      "  warnings.warn(\n"
     ]
    }
   ],
   "source": [
    "prompt = hub.pull(\"rlm/rag-prompt\")\n",
    "\n",
    "def format_docs(docs):\n",
    "    return \"\\n\\n\".join(summary_table_mapping[doc.page_content] for doc in docs)\n",
    "    # return \"\\n\\n\".join(doc.page_content for doc in docs)"
   ]
  },
  {
   "cell_type": "code",
   "execution_count": 46,
   "metadata": {},
   "outputs": [],
   "source": [
    "# rag_chain = (\n",
    "#     {\"context\": semantic_retriever | format_docs, \"question\": RunnablePassthrough()}\n",
    "#     | prompt\n",
    "#     | llm\n",
    "#     # | StrOutputParser()\n",
    "# )\n",
    "from langchain_core.runnables import RunnableParallel\n",
    "\n",
    "rag_chain_with_source = RunnableParallel(\n",
    "    {\n",
    "        \"answer\": (\n",
    "            {\"context\": semantic_retriever | format_docs, \"question\": RunnablePassthrough()}\n",
    "            | prompt\n",
    "            | llm\n",
    "            | StrOutputParser()\n",
    "        ),\n",
    "        \"sources\": semantic_retriever  # This will return the raw documents\n",
    "    }\n",
    ")"
   ]
  },
  {
   "cell_type": "code",
   "execution_count": 47,
   "metadata": {},
   "outputs": [],
   "source": [
    "output1 =rag_chain_with_source.invoke(query1)\n",
    "output2 =rag_chain_with_source.invoke(query2)\n",
    "output3 =rag_chain_with_source.invoke(query3)\n",
    "output4 =rag_chain_with_source.invoke(query4)\n",
    "output5 =rag_chain_with_source.invoke(query5)\n",
    "output6 =rag_chain_with_source.invoke(query6)\n",
    "output7 =rag_chain_with_source.invoke(query7)\n",
    "output8 =rag_chain_with_source.invoke(query8)\n",
    "output9 =rag_chain_with_source.invoke(query9)\n",
    "output10 =rag_chain_with_source.invoke(query10)\n",
    "output11 =rag_chain_with_source.invoke(query11)\n",
    "output12 =rag_chain_with_source.invoke(query12)\n",
    "output13 =rag_chain_with_source.invoke(query13)\n",
    "output14 =rag_chain_with_source.invoke(query14)\n",
    "output15 =rag_chain_with_source.invoke(query15)\n",
    "output16 =rag_chain_with_source.invoke(query16)\n",
    "output17 =rag_chain_with_source.invoke(query17)"
   ]
  },
  {
   "cell_type": "code",
   "execution_count": 48,
   "metadata": {},
   "outputs": [
    {
     "name": "stdout",
     "output_type": "stream",
     "text": [
      "Query 1: What percentage of total crashes in Arizona were fatal in 2023?\n",
      "Answer: In 2023, the percentage of total crashes in Arizona that were fatal is approximately 0.97%. This is calculated by dividing the total fatalities (1,307) by the total crashes (122,247) and multiplying by 100.\n",
      "Sources:\n",
      "The table presents a comparative analysis of crash statistics in Arizona for the years 2022 and 2023. It encompasses various categories related to traffic incidents, including total crashes, fatalities, and injuries, as well as specific data on alcohol-related incidents, urban and rural statistics, and the impact on motorcyclists, pedestrians, and bicyclists. Additionally, it examines vehicle miles traveled and calculates fatalities and injuries per 100 million vehicle miles. The table highlights changes in these metrics over the two years, indicating trends in road safety and the effectiveness of traffic regulations and interventions.\n",
      "The table presents a comprehensive breakdown of fatal crashes in Arizona, highlighting various factors contributing to these incidents. It categorizes the crashes based on different criteria, such as the involvement of alcohol, the type of area where the crashes occurred (urban versus rural), and whether they involved single or multiple vehicles. Additionally, it distinguishes between alcohol-related crashes in both single and multi-unit scenarios. This summary provides insights into the nature and circumstances surrounding fatal accidents in the state, emphasizing the importance of understanding these factors for safety and prevention efforts.\n",
      "The table presents a historical overview of fatalities in Arizona from the year 1925 to 2023. It highlights the total number of fatalities recorded each year, reflecting trends and changes over nearly a century. This data can provide insights into various factors influencing safety and public health in the state, as well as the impact of policies, infrastructure, and societal changes on fatality rates. The information may be useful for researchers, policymakers, and public health officials interested in understanding the dynamics of fatalities in Arizona over time.\n",
      "The table presents data on young drivers aged 15 to 24 who were killed in crashes over a five-year period from 2019 to 2023. It categorizes the fatalities by age, allowing for an analysis of trends and patterns in road safety among this demographic. The data highlights the total number of fatalities for each age group across the years, providing insights into the risks faced by young drivers and the potential impact of various factors such as age, driving experience, and possibly changes in road safety measures or regulations over time. This information can be valuable for policymakers, researchers, and organizations focused on improving road safety and reducing accidents among young drivers.\n",
      "\n",
      "Query 2: How many crashes in Arizona in 2023 were alcohol-related, and what portion of them were fatal?\n",
      "Answer: In 2023, there were 308 alcohol-related crashes in Arizona. Out of these, 332 fatalities were reported, indicating that a portion of the alcohol-related crashes resulted in fatalities.\n",
      "Sources:\n",
      "The table presents a comprehensive breakdown of fatal crashes in Arizona, highlighting various factors contributing to these incidents. It categorizes the crashes based on different criteria, such as the involvement of alcohol, the type of area where the crashes occurred (urban versus rural), and whether they involved single or multiple vehicles. Additionally, it distinguishes between alcohol-related crashes in both single and multi-unit scenarios. This summary provides insights into the nature and circumstances surrounding fatal accidents in the state, emphasizing the importance of understanding these factors for safety and prevention efforts.\n",
      "The table presents an analysis of alcohol-related crashes that occurred in 2023, categorized by the time of day and whether the incidents took place on weekdays or weekends. It highlights the distribution of these crashes during daytime and nighttime, providing insights into patterns of alcohol-related incidents based on the day of the week. The data aims to inform discussions on road safety and the impact of alcohol consumption on driving behavior during different times and days.\n",
      "The table presents a comparative analysis of crash statistics in Arizona for the years 2022 and 2023. It encompasses various categories related to traffic incidents, including total crashes, fatalities, and injuries, as well as specific data on alcohol-related incidents, urban and rural statistics, and the impact on motorcyclists, pedestrians, and bicyclists. Additionally, it examines vehicle miles traveled and calculates fatalities and injuries per 100 million vehicle miles. The table highlights changes in these metrics over the two years, indicating trends in road safety and the effectiveness of traffic regulations and interventions.\n",
      "The table presents an overview of the economic losses associated with alcohol-related crashes in Arizona for the year 2023. It categorizes the financial impact based on different types of incidents, including fatalities, serious injuries, minor injuries, possible injuries, and property damage. This information highlights the significant economic burden that alcohol-related accidents impose on the state, reflecting the broader implications for public health and safety. The data underscores the importance of addressing alcohol consumption and its consequences on road safety.\n",
      "\n",
      "Query 3: What was the peak hour for all crashes in Arizona in 2023, and how does it differ from the peak hour for fatal crashes?\n",
      "Answer: The peak hour for all crashes in Arizona in 2023 was not specified in the provided context. However, the peak hour for fatal crashes is also not mentioned. Therefore, I don't know the specific peak hours for either category.\n",
      "Sources:\n",
      "The table presents a comparative analysis of crash statistics in Arizona for the years 2022 and 2023. It encompasses various categories related to traffic incidents, including total crashes, fatalities, and injuries, as well as specific data on alcohol-related incidents, urban and rural statistics, and the impact on motorcyclists, pedestrians, and bicyclists. Additionally, it examines vehicle miles traveled and calculates fatalities and injuries per 100 million vehicle miles. The table highlights changes in these metrics over the two years, indicating trends in road safety and the effectiveness of traffic regulations and interventions.\n",
      "The table presents an analysis of alcohol-related crashes that occurred in 2023, categorized by the time of day and whether the incidents took place on weekdays or weekends. It highlights the distribution of these crashes during daytime and nighttime, providing insights into patterns of alcohol-related incidents based on the day of the week. The data aims to inform discussions on road safety and the impact of alcohol consumption on driving behavior during different times and days.\n",
      "The table presents data on the number of persons killed during various holidays over a span of five years, from 2019 to 2023. It highlights specific holidays, including New Year's Day, Memorial Day, July 4th, Labor Day, Thanksgiving, and Christmas Day, and provides a total count of fatalities for each year. The information allows for an analysis of trends in holiday-related fatalities over time, indicating fluctuations in safety or incidents associated with these significant dates. This summary reflects the overall impact of these holidays on public safety and the potential need for awareness and preventive measures during these times.\n",
      "The table presents an analysis of crash severity categorized by the first harmful event in urban areas. It outlines various types of incidents, including collisions with motor vehicles, pedestrians, and cyclists, as well as other events such as overturning and collisions with fixed or non-fixed objects. The data is segmented into different severity levels, including total crashes, fatalities, injuries, and property damage only (PDO). Additionally, it provides information on the number of persons killed and injured in these incidents. This comprehensive overview aims to highlight the prevalence and impact of different types of crashes in urban settings, offering insights into traffic safety and public health concerns.\n",
      "\n",
      "Query 4: How many fatalities in crashes where there in Arizona in 1989?\n",
      "Answer: In 1989, there were 879 fatalities in crashes in Arizona.\n",
      "Sources:\n",
      "The table presents a comparative analysis of crash statistics in Arizona for the years 2022 and 2023. It encompasses various categories related to traffic incidents, including total crashes, fatalities, and injuries, as well as specific data on alcohol-related incidents, urban and rural statistics, and the impact on motorcyclists, pedestrians, and bicyclists. Additionally, it examines vehicle miles traveled and calculates fatalities and injuries per 100 million vehicle miles. The table highlights changes in these metrics over the two years, indicating trends in road safety and the effectiveness of traffic regulations and interventions.\n",
      "The table presents a comprehensive breakdown of fatal crashes in Arizona, highlighting various factors contributing to these incidents. It categorizes the crashes based on different criteria, such as the involvement of alcohol, the type of area where the crashes occurred (urban versus rural), and whether they involved single or multiple vehicles. Additionally, it distinguishes between alcohol-related crashes in both single and multi-unit scenarios. This summary provides insights into the nature and circumstances surrounding fatal accidents in the state, emphasizing the importance of understanding these factors for safety and prevention efforts.\n",
      "The table presents a historical overview of fatalities in Arizona from the year 1925 to 2023. It highlights the total number of fatalities recorded each year, reflecting trends and changes over nearly a century. This data can provide insights into various factors influencing safety and public health in the state, as well as the impact of policies, infrastructure, and societal changes on fatality rates. The information may be useful for researchers, policymakers, and public health officials interested in understanding the dynamics of fatalities in Arizona over time.\n",
      "The table presents data on fatal crashes categorized by specific holidays over a span of five years. It highlights the number of fatal incidents that occurred on significant holidays such as New Year's Day, Memorial Day, July 4th, Labor Day, Thanksgiving, and Christmas Day. Additionally, it provides a total count of fatal crashes for each year, allowing for a comparative analysis of trends and patterns in road safety during these holiday periods. The data can be useful for understanding the impact of holiday celebrations on traffic safety and for informing public safety initiatives.\n",
      "\n",
      "Query 5: From 2011 to 2023 which year had the least fatality in Arizona?\n",
      "Answer: The year with the least fatalities in Arizona from 2011 to 2023 was 2011, with a total of 827 fatalities.\n",
      "Sources:\n",
      "The table presents a historical overview of fatalities in Arizona from the year 1925 to 2023. It highlights the total number of fatalities recorded each year, reflecting trends and changes over nearly a century. This data can provide insights into various factors influencing safety and public health in the state, as well as the impact of policies, infrastructure, and societal changes on fatality rates. The information may be useful for researchers, policymakers, and public health officials interested in understanding the dynamics of fatalities in Arizona over time.\n",
      "The table presents an overview of motor vehicle registrations in Arizona as of December 31, 2023. It categorizes the vehicles into several types, including privately owned vehicles, commercial vehicles, motorcycles, mopeds, and other classifications. The data reflects the total number of registered vehicles in the state, highlighting the diversity of vehicle ownership. The source of the information is the Motor Vehicle Division (MVD), which provides insights into the current state of vehicle registrations across Arizona.\n",
      "The table provides an overview of various holidays in 2023, detailing the timeframes during which these holidays are observed, the number of days counted for each holiday period, and statistics related to fatal crashes and fatalities associated with alcohol. It highlights significant holidays such as New Year's Day, Memorial Day, July 4th, Labor Day, Thanksgiving Day, and Christmas Day. The data aims to illustrate the impact of these holidays on road safety, particularly focusing on incidents involving alcohol. The structure of the table allows for easy comparison across different holidays regarding their duration and associated safety statistics.\n",
      "The table presents an analysis of traffic crashes across various jurisdictions within Yuma County, including specific cities such as Somerton, Yuma, Wellton, and San Luis. It categorizes the data into several key metrics, including the total number of crashes, fatalities, injuries, and property damage only incidents. Additionally, it highlights the number of individuals affected by these crashes, distinguishing between those killed and injured. The table also focuses on alcohol-related incidents, providing insights into the prevalence of such cases within the overall crash statistics. This comprehensive overview aims to shed light on traffic safety and the impact of alcohol on road incidents in the region.\n",
      "\n",
      "Query 6: How much percentage change was there in Rural Fatalities between 2022 and 2023?\n",
      "Answer: The percentage change in Rural Fatalities between 2022 and 2023 was -4.82%. This indicates a decrease in rural fatalities during that period.\n",
      "Sources:\n",
      "The table presents a comparative analysis of crash statistics in Arizona for the years 2022 and 2023. It encompasses various categories related to traffic incidents, including total crashes, fatalities, and injuries, as well as specific data on alcohol-related incidents, urban and rural statistics, and the impact on motorcyclists, pedestrians, and bicyclists. Additionally, it examines vehicle miles traveled and calculates fatalities and injuries per 100 million vehicle miles. The table highlights changes in these metrics over the two years, indicating trends in road safety and the effectiveness of traffic regulations and interventions.\n",
      "The table presents data on the number of persons killed during various holidays over a span of five years, from 2019 to 2023. It highlights specific holidays, including New Year's Day, Memorial Day, July 4th, Labor Day, Thanksgiving, and Christmas Day, and provides a total count of fatalities for each year. The information allows for an analysis of trends in holiday-related fatalities over time, indicating fluctuations in safety or incidents associated with these significant dates. This summary reflects the overall impact of these holidays on public safety and the potential need for awareness and preventive measures during these times.\n",
      "The table presents an analysis of crash severity categorized by the first harmful event in rural areas. It outlines various types of incidents, including collisions with motor vehicles, pedestrians, and animals, as well as other events such as overturning and vehicle fires. The data is segmented into different classifications, including the total number of crashes, fatalities, injuries, and property damage only (PDO) incidents. Additionally, it provides insights into the number of persons killed and injured as a result of these events. This comprehensive overview aims to highlight the prevalence and impact of different types of crashes in rural settings, contributing to a better understanding of road safety and accident trends in these areas.\n",
      "The table presents data on young drivers aged 15 to 24 who were killed in crashes over a five-year period from 2019 to 2023. It categorizes the fatalities by age, allowing for an analysis of trends and patterns in road safety among this demographic. The data highlights the total number of fatalities for each age group across the years, providing insights into the risks faced by young drivers and the potential impact of various factors such as age, driving experience, and possibly changes in road safety measures or regulations over time. This information can be valuable for policymakers, researchers, and organizations focused on improving road safety and reducing accidents among young drivers.\n",
      "\n",
      "Query 7: What is the economic cost of motor vehicle crashes for Arizona in 2023?\n",
      "Answer: The economic cost of motor vehicle crashes for Arizona in 2023 is approximately $21.64 billion. This total includes costs associated with fatalities, injuries, and property damage.\n",
      "Sources:\n",
      "The table presents an overview of the economic losses associated with alcohol-related crashes in Arizona for the year 2023. It categorizes the financial impact based on different types of incidents, including fatalities, serious injuries, minor injuries, possible injuries, and property damage. This information highlights the significant economic burden that alcohol-related accidents impose on the state, reflecting the broader implications for public health and safety. The data underscores the importance of addressing alcohol consumption and its consequences on road safety.\n",
      "The table presents an overview of motor vehicle registrations in Arizona as of December 31, 2023. It categorizes the vehicles into several types, including privately owned vehicles, commercial vehicles, motorcycles, mopeds, and other classifications. The data reflects the total number of registered vehicles in the state, highlighting the diversity of vehicle ownership. The source of the information is the Motor Vehicle Division (MVD), which provides insights into the current state of vehicle registrations across Arizona.\n",
      "The table presents a comprehensive overview of historical trends in traffic-related statistics for Arizona over a span of five years, from 2019 to 2023. It includes key metrics such as fatality rates, injury rates, the number of traffic fatalities, estimated motor vehicle miles traveled, and rates of suspected serious injuries. This data is crucial for understanding the safety landscape of Arizona's roadways, highlighting changes in traffic safety and the impact of various factors on road user safety over the specified years. The trends illustrated can inform policymakers, researchers, and the public about the effectiveness of traffic safety measures and the evolving nature of road safety in the state.\n",
      "The table presents an analysis of the estimated economic losses incurred due to traffic crashes across various counties. It categorizes the costs associated with these incidents into four main areas: fatalities, injuries, property damage only (PDO), and the total economic impact. Each county is listed alongside its respective financial figures, highlighting the significant economic burden that traffic accidents impose on local communities. The data underscores the varying levels of impact across different regions, reflecting the broader implications of traffic safety and public health. Overall, the table serves as a critical resource for understanding the financial consequences of traffic-related incidents at the county level.\n",
      "\n",
      "Query 8: How much percentage change was there in Rural Fatalities between 2022 and 2023?\n",
      "Answer: The percentage change in Rural Fatalities between 2022 and 2023 was -4.82%. This indicates a decrease in rural fatalities during that period.\n",
      "Sources:\n",
      "The table presents a comparative analysis of crash statistics in Arizona for the years 2022 and 2023. It encompasses various categories related to traffic incidents, including total crashes, fatalities, and injuries, as well as specific data on alcohol-related incidents, urban and rural statistics, and the impact on motorcyclists, pedestrians, and bicyclists. Additionally, it examines vehicle miles traveled and calculates fatalities and injuries per 100 million vehicle miles. The table highlights changes in these metrics over the two years, indicating trends in road safety and the effectiveness of traffic regulations and interventions.\n",
      "The table presents data on the number of persons killed during various holidays over a span of five years, from 2019 to 2023. It highlights specific holidays, including New Year's Day, Memorial Day, July 4th, Labor Day, Thanksgiving, and Christmas Day, and provides a total count of fatalities for each year. The information allows for an analysis of trends in holiday-related fatalities over time, indicating fluctuations in safety or incidents associated with these significant dates. This summary reflects the overall impact of these holidays on public safety and the potential need for awareness and preventive measures during these times.\n",
      "The table presents an analysis of crash severity categorized by the first harmful event in rural areas. It outlines various types of incidents, including collisions with motor vehicles, pedestrians, and animals, as well as other events such as overturning and vehicle fires. The data is segmented into different classifications, including the total number of crashes, fatalities, injuries, and property damage only (PDO) incidents. Additionally, it provides insights into the number of persons killed and injured as a result of these events. This comprehensive overview aims to highlight the prevalence and impact of different types of crashes in rural settings, contributing to a better understanding of road safety and accident trends in these areas.\n",
      "The table presents data on young drivers aged 15 to 24 who were killed in crashes over a five-year period from 2019 to 2023. It categorizes the fatalities by age, allowing for an analysis of trends and patterns in road safety among this demographic. The data highlights the total number of fatalities for each age group across the years, providing insights into the risks faced by young drivers and the potential impact of various factors such as age, driving experience, and possibly changes in road safety measures or regulations over time. This information can be valuable for policymakers, researchers, and organizations focused on improving road safety and reducing accidents among young drivers.\n",
      "\n",
      "Query 9: How many licensed drivers were there in 2017?\n",
      "Answer: In 2017, there were a total of 237,942 licensed drivers involved in crashes. This number includes drivers with Arizona licenses and those with other licenses. The data does not specify the total number of licensed drivers overall for that year.\n",
      "Sources:\n",
      "The table presents an analysis of the license status of drivers involved in crashes, categorizing them based on whether they hold an Arizona license or belong to other categories. It breaks down the total number of drivers and their involvement in different types of crashes, including fatal, injury, and property damage only (PDO) incidents. Additionally, the table provides percentages to illustrate the distribution of drivers across these categories, highlighting the differences in crash involvement based on license status. This information is crucial for understanding the impact of driver licensing on road safety and crash statistics.\n",
      "The table presents an overview of motor vehicle registrations in Arizona as of December 31, 2023. It categorizes the vehicles into several types, including privately owned vehicles, commercial vehicles, motorcycles, mopeds, and other classifications. The data reflects the total number of registered vehicles in the state, highlighting the diversity of vehicle ownership. The source of the information is the Motor Vehicle Division (MVD), which provides insights into the current state of vehicle registrations across Arizona.\n",
      "The table presents data on young drivers aged 15 to 24 who were killed in crashes over a five-year period from 2019 to 2023. It categorizes the fatalities by age, allowing for an analysis of trends and patterns in road safety among this demographic. The data highlights the total number of fatalities for each age group across the years, providing insights into the risks faced by young drivers and the potential impact of various factors such as age, driving experience, and possibly changes in road safety measures or regulations over time. This information can be valuable for policymakers, researchers, and organizations focused on improving road safety and reducing accidents among young drivers.\n",
      "The table presents an analysis of driver safety device usage categorized by gender. It highlights the number of drivers who utilized safety devices, those who did not, and instances where the usage status is unknown. Additionally, it provides percentages related to each category, offering insights into the overall trends in safety device usage among male, female, and unknown gender drivers. The data aims to shed light on gender differences in safety device adoption and the implications for road safety.\n",
      "\n",
      "Query 10: How many total registered vehicles were there in 2018?\n",
      "Answer: I don't know.\n",
      "Sources:\n",
      "The table presents an overview of motor vehicle registrations in Arizona as of December 31, 2023. It categorizes the vehicles into several types, including privately owned vehicles, commercial vehicles, motorcycles, mopeds, and other classifications. The data reflects the total number of registered vehicles in the state, highlighting the diversity of vehicle ownership. The source of the information is the Motor Vehicle Division (MVD), which provides insights into the current state of vehicle registrations across Arizona.\n",
      "The table presents a summary of holiday periods over several years, detailing the number of days counted for various holidays, including New Year's Day, Memorial Day, July 4th, Labor Day, Thanksgiving, and Christmas Day. It also includes a total count of holiday days for each year. The data spans from 2019 to 2023, allowing for a comparison of holiday observances across these years. This information can be useful for understanding trends in holiday durations and planning for time off or celebrations.\n",
      "The table presents an analysis of operator involvement in motor vehicle crashes categorized by age groups. It highlights the total number of operators involved in crashes, as well as their participation in fatal, injury, and property damage only (PDO) incidents. Additionally, the table provides percentages that reflect the proportion of each age group relative to the overall data set, as well as their specific involvement in different types of crashes. This information is crucial for understanding trends in crash involvement across various age demographics, which can inform safety measures and policy decisions aimed at reducing accidents and enhancing road safety.\n",
      "The table presents a comprehensive overview of historical trends in traffic-related statistics for Arizona over a span of five years, from 2019 to 2023. It includes key metrics such as fatality rates, injury rates, the number of traffic fatalities, estimated motor vehicle miles traveled, and rates of suspected serious injuries. This data is crucial for understanding the safety landscape of Arizona's roadways, highlighting changes in traffic safety and the impact of various factors on road user safety over the specified years. The trends illustrated can inform policymakers, researchers, and the public about the effectiveness of traffic safety measures and the evolving nature of road safety in the state.\n",
      "\n",
      "Query 11: How much is the estimated motor vehicle miles traveled in 2023?\n",
      "Answer: The estimated motor vehicle miles traveled (VMT) in 2023 is 75,438 million. This represents a decrease of 0.95% compared to the previous year.\n",
      "Sources:\n",
      "The table presents a comparative analysis of crash statistics in Arizona for the years 2022 and 2023. It encompasses various categories related to traffic incidents, including total crashes, fatalities, and injuries, as well as specific data on alcohol-related incidents, urban and rural statistics, and the impact on motorcyclists, pedestrians, and bicyclists. Additionally, it examines vehicle miles traveled and calculates fatalities and injuries per 100 million vehicle miles. The table highlights changes in these metrics over the two years, indicating trends in road safety and the effectiveness of traffic regulations and interventions.\n",
      "The table presents an overview of motor vehicle registrations in Arizona as of December 31, 2023. It categorizes the vehicles into several types, including privately owned vehicles, commercial vehicles, motorcycles, mopeds, and other classifications. The data reflects the total number of registered vehicles in the state, highlighting the diversity of vehicle ownership. The source of the information is the Motor Vehicle Division (MVD), which provides insights into the current state of vehicle registrations across Arizona.\n",
      "The table presents an analysis of driver safety device usage categorized by gender. It highlights the number of drivers who utilized safety devices, those who did not, and instances where the usage status is unknown. Additionally, it provides percentages related to each category, offering insights into the overall trends in safety device usage among male, female, and unknown gender drivers. The data aims to shed light on gender differences in safety device adoption and the implications for road safety.\n",
      "The table provides an overview of various holidays in 2023, detailing the timeframes during which these holidays are observed, the number of days counted for each holiday period, and statistics related to fatal crashes and fatalities associated with alcohol. It highlights significant holidays such as New Year's Day, Memorial Day, July 4th, Labor Day, Thanksgiving Day, and Christmas Day. The data aims to illustrate the impact of these holidays on road safety, particularly focusing on incidents involving alcohol. The structure of the table allows for easy comparison across different holidays regarding their duration and associated safety statistics.\n",
      "\n",
      "Query 12: How much is the Arizona fatality rate in 2023?\n",
      "Answer: In 2023, Arizona had a total of 1,307 fatalities. The fatality rate was 1.73 per 100 million vehicle miles traveled. This represents a slight decrease from the previous year.\n",
      "Sources:\n",
      "The table presents a historical overview of fatalities in Arizona from the year 1925 to 2023. It highlights the total number of fatalities recorded each year, reflecting trends and changes over nearly a century. This data can provide insights into various factors influencing safety and public health in the state, as well as the impact of policies, infrastructure, and societal changes on fatality rates. The information may be useful for researchers, policymakers, and public health officials interested in understanding the dynamics of fatalities in Arizona over time.\n",
      "The table presents an analysis of the license status of drivers involved in crashes, categorizing them based on whether they hold an Arizona license or belong to other categories. It breaks down the total number of drivers and their involvement in different types of crashes, including fatal, injury, and property damage only (PDO) incidents. Additionally, the table provides percentages to illustrate the distribution of drivers across these categories, highlighting the differences in crash involvement based on license status. This information is crucial for understanding the impact of driver licensing on road safety and crash statistics.\n",
      "The table presents a comparative analysis of crash statistics in Arizona for the years 2022 and 2023. It encompasses various categories related to traffic incidents, including total crashes, fatalities, and injuries, as well as specific data on alcohol-related incidents, urban and rural statistics, and the impact on motorcyclists, pedestrians, and bicyclists. Additionally, it examines vehicle miles traveled and calculates fatalities and injuries per 100 million vehicle miles. The table highlights changes in these metrics over the two years, indicating trends in road safety and the effectiveness of traffic regulations and interventions.\n",
      "The table presents data on the number of persons killed during various holidays over a span of five years, from 2019 to 2023. It highlights specific holidays, including New Year's Day, Memorial Day, July 4th, Labor Day, Thanksgiving, and Christmas Day, and provides a total count of fatalities for each year. The information allows for an analysis of trends in holiday-related fatalities over time, indicating fluctuations in safety or incidents associated with these significant dates. This summary reflects the overall impact of these holidays on public safety and the potential need for awareness and preventive measures during these times.\n",
      "\n",
      "Query 13: Which county had the highest economic loss?\n",
      "Answer: Maricopa County had the highest economic loss, totaling $12,554,528,319. This figure includes costs from fatalities, injuries, and property damage due to traffic crashes.\n",
      "Sources:\n",
      "The table presents an analysis of the estimated economic losses incurred due to traffic crashes across various counties. It categorizes the costs associated with these incidents into four main areas: fatalities, injuries, property damage only (PDO), and the total economic impact. Each county is listed alongside its respective financial figures, highlighting the significant economic burden that traffic accidents impose on local communities. The data underscores the varying levels of impact across different regions, reflecting the broader implications of traffic safety and public health. Overall, the table serves as a critical resource for understanding the financial consequences of traffic-related incidents at the county level.\n",
      "The table presents a historical overview of fatalities in Arizona from the year 1925 to 2023. It highlights the total number of fatalities recorded each year, reflecting trends and changes over nearly a century. This data can provide insights into various factors influencing safety and public health in the state, as well as the impact of policies, infrastructure, and societal changes on fatality rates. The information may be useful for researchers, policymakers, and public health officials interested in understanding the dynamics of fatalities in Arizona over time.\n",
      "The table presents an overview of the economic losses associated with alcohol-related crashes in Arizona for the year 2023. It categorizes the financial impact based on different types of incidents, including fatalities, serious injuries, minor injuries, possible injuries, and property damage. This information highlights the significant economic burden that alcohol-related accidents impose on the state, reflecting the broader implications for public health and safety. The data underscores the importance of addressing alcohol consumption and its consequences on road safety.\n",
      "The table presents an analysis of bicycle crashes categorized by geographic location, specifically distinguishing between urban and rural areas. It encompasses various aspects of bicycle incidents, including total crashes, fatal crashes, injury crashes, and the number of bicyclists killed or injured. The data highlights the prevalence of these incidents in urban versus rural settings, providing insights into the safety challenges faced by bicyclists in different environments. This information can be valuable for policymakers, urban planners, and safety advocates aiming to improve bicycle safety and reduce accidents.\n",
      "\n",
      "Query 14: What are the States Adjusted crash costs for property damage only?\n",
      "Answer: The States Adjusted crash cost for property damage only is $10,680.\n",
      "Sources:\n",
      "The table presents the adjusted crash costs associated with various types of traffic incidents. It categorizes the costs based on the severity of injuries sustained in accidents, ranging from fatalities to property damage only. This information is crucial for understanding the economic impact of traffic accidents and can be used for policy-making, resource allocation, and safety improvement initiatives. The costs reflect the financial implications of different injury levels, highlighting the significant disparities in economic consequences based on the severity of the crash outcomes.\n",
      "The table presents an analysis of motorcycle crashes categorized by geographic location, specifically distinguishing between urban and rural areas. It encompasses various types of crashes, including total crashes, fatal crashes, injury crashes, and property damage only (PDO) crashes. Additionally, the table provides insights into the number of persons killed and injured in these incidents. The data highlights the distribution of motorcycle crashes in urban versus rural settings, offering a comprehensive overview of the safety challenges faced by motorcyclists in different environments. This information is crucial for understanding trends in motorcycle safety and for informing policy and prevention strategies.\n",
      "The table presents an analysis of traffic crashes across various jurisdictions within Yuma County, including specific cities such as Somerton, Yuma, Wellton, and San Luis. It categorizes the data into several key metrics, including the total number of crashes, fatalities, injuries, and property damage only incidents. Additionally, it highlights the number of individuals affected by these crashes, distinguishing between those killed and injured. The table also focuses on alcohol-related incidents, providing insights into the prevalence of such cases within the overall crash statistics. This comprehensive overview aims to shed light on traffic safety and the impact of alcohol on road incidents in the region.\n",
      "The table presents an overview of the economic losses associated with alcohol-related crashes in Arizona for the year 2023. It categorizes the financial impact based on different types of incidents, including fatalities, serious injuries, minor injuries, possible injuries, and property damage. This information highlights the significant economic burden that alcohol-related accidents impose on the state, reflecting the broader implications for public health and safety. The data underscores the importance of addressing alcohol consumption and its consequences on road safety.\n",
      "\n",
      "Query 15: How many motors vehicle crashes were victims aged 25-34?\n",
      "Answer: There were 245 victims aged 25-34 in motor vehicle crashes. This includes 187 males and 58 females.\n",
      "Sources:\n",
      "The table presents a comprehensive overview of the victims involved in motor vehicle crashes, categorizing them by age groups. It details the number of individuals killed and injured, further breaking down the data by gender for both fatalities and injuries. The age groups range from young children to older adults, highlighting the impact of motor vehicle incidents across different demographics. Additionally, the table includes a category for victims whose gender is unknown. This structured format allows for a clear understanding of the trends and patterns related to motor vehicle crashes and their consequences on various age groups and genders.\n",
      "The table presents a comparative analysis of crash statistics in Arizona for the years 2022 and 2023. It encompasses various categories related to traffic incidents, including total crashes, fatalities, and injuries, as well as specific data on alcohol-related incidents, urban and rural statistics, and the impact on motorcyclists, pedestrians, and bicyclists. Additionally, it examines vehicle miles traveled and calculates fatalities and injuries per 100 million vehicle miles. The table highlights changes in these metrics over the two years, indicating trends in road safety and the effectiveness of traffic regulations and interventions.\n",
      "The table presents an analysis of crash severity categorized by the first harmful event in rural areas. It outlines various types of incidents, including collisions with motor vehicles, pedestrians, and animals, as well as other events such as overturning and vehicle fires. The data is segmented into different classifications, including the total number of crashes, fatalities, injuries, and property damage only (PDO) incidents. Additionally, it provides insights into the number of persons killed and injured as a result of these events. This comprehensive overview aims to highlight the prevalence and impact of different types of crashes in rural settings, contributing to a better understanding of road safety and accident trends in these areas.\n",
      "The table presents a comprehensive analysis of crashes categorized by the hour of the day and the day of the week. It includes data on total crashes and fatal crashes, segmented by each day from Monday to Sunday, as well as aggregated totals for weekdays and weekends. The structure allows for a detailed examination of patterns in crash occurrences, highlighting variations in both total and fatal incidents across different times and days. This information can be valuable for understanding traffic safety trends and informing policy decisions aimed at reducing accidents.\n",
      "\n",
      "Query 16: How many suspected serious injuries were there for bicyclists in 2022?\n",
      "Answer: In 2022, there were 140 suspected serious injuries for bicyclists.\n",
      "Sources:\n",
      "The table presents an analysis of suspected serious injuries categorized by person type over a five-year period from 2019 to 2023. It includes data on injuries sustained by drivers, passengers, pedestrians, and bicyclists, providing a comprehensive overview of the trends and changes in serious injuries across these groups. The total number of injuries for each year is also summarized, allowing for a comparison of overall trends in road safety and injury incidence over the specified years. This information can be useful for understanding the impact of traffic incidents on different types of road users and for informing policy and safety measures.\n",
      "The table presents an analysis of bicycle crashes categorized by geographic location, specifically distinguishing between urban and rural areas. It encompasses various aspects of bicycle incidents, including total crashes, fatal crashes, injury crashes, and the number of bicyclists killed or injured. The data highlights the prevalence of these incidents in urban versus rural settings, providing insights into the safety challenges faced by bicyclists in different environments. This information can be valuable for policymakers, urban planners, and safety advocates aiming to improve bicycle safety and reduce accidents.\n",
      "The table presents a comprehensive overview of bicyclist fatalities and injuries categorized by age group and gender. It highlights the number of bicyclists killed and injured, providing a breakdown of the data into total figures as well as specific counts for male and female bicyclists. The age groups range from very young children to older adults, allowing for an analysis of how different demographics are affected by bicycling incidents. This information is crucial for understanding trends in bicyclist safety and can inform public health initiatives, policy-making, and community awareness programs aimed at reducing accidents and improving safety for cyclists.\n",
      "The table presents an analysis of motorcycle passenger helmet use in relation to the severity of injuries sustained during incidents. It categorizes the outcomes into various injury levels, ranging from no injury to fatal injuries, and distinguishes between those who wore helmets and those who did not. Additionally, it includes a segment for cases where the injury status is unknown. The data is expressed in both absolute numbers and percentages, providing insights into the relationship between helmet use and injury severity. This analysis aims to highlight the impact of helmet usage on safety outcomes for motorcycle passengers.\n",
      "\n",
      "Query 17: How many fatal crashes were there on the Labor Day weekend in 2023?\n",
      "Answer: There were 15 fatal crashes on the Labor Day weekend in 2023.\n",
      "Sources:\n",
      "The table presents data on fatal crashes categorized by specific holidays over a span of five years. It highlights the number of fatal incidents that occurred on significant holidays such as New Year's Day, Memorial Day, July 4th, Labor Day, Thanksgiving, and Christmas Day. Additionally, it provides a total count of fatal crashes for each year, allowing for a comparative analysis of trends and patterns in road safety during these holiday periods. The data can be useful for understanding the impact of holiday celebrations on traffic safety and for informing public safety initiatives.\n",
      "The table presents a comparative analysis of crash statistics in Arizona for the years 2022 and 2023. It encompasses various categories related to traffic incidents, including total crashes, fatalities, and injuries, as well as specific data on alcohol-related incidents, urban and rural statistics, and the impact on motorcyclists, pedestrians, and bicyclists. Additionally, it examines vehicle miles traveled and calculates fatalities and injuries per 100 million vehicle miles. The table highlights changes in these metrics over the two years, indicating trends in road safety and the effectiveness of traffic regulations and interventions.\n",
      "The table presents an analysis of alcohol-related crashes categorized by the first harmful event type. It outlines various types of incidents, including collisions with motor vehicles, pedestrians, and fixed objects, as well as other events such as overturning and vehicle fires. The data is further broken down into the total number of crashes, fatalities, injuries, and property damage only (PDO) incidents, along with the number of persons killed and injured in these events. This comprehensive overview highlights the impact of alcohol on road safety and the different circumstances under which these crashes occur.\n",
      "The table presents an analysis of alcohol-related crashes that occurred in 2023, categorized by the time of day and whether the incidents took place on weekdays or weekends. It highlights the distribution of these crashes during daytime and nighttime, providing insights into patterns of alcohol-related incidents based on the day of the week. The data aims to inform discussions on road safety and the impact of alcohol consumption on driving behavior during different times and days.\n",
      "\n"
     ]
    }
   ],
   "source": [
    "def format_sources(sources):\n",
    "    return \"\\n\".join([f\"{doc.page_content}\" for doc in sources])\n",
    "\n",
    "for i in range(1, 18):\n",
    "    query = globals()[f\"query{i}\"]\n",
    "    output = globals()[f\"output{i}\"]\n",
    "    print(f\"Query {i}: {query}\\nAnswer: {output['answer']}\\nSources:\\n{format_sources(output['sources'])}\\n\")"
   ]
  },
  {
   "cell_type": "code",
   "execution_count": null,
   "metadata": {},
   "outputs": [],
   "source": []
  }
 ],
 "metadata": {
  "kernelspec": {
   "display_name": "venv",
   "language": "python",
   "name": "python3"
  },
  "language_info": {
   "codemirror_mode": {
    "name": "ipython",
    "version": 3
   },
   "file_extension": ".py",
   "mimetype": "text/x-python",
   "name": "python",
   "nbconvert_exporter": "python",
   "pygments_lexer": "ipython3",
   "version": "3.12.3"
  }
 },
 "nbformat": 4,
 "nbformat_minor": 2
}
